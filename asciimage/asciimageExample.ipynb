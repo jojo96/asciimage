{
  "nbformat": 4,
  "nbformat_minor": 0,
  "metadata": {
    "colab": {
      "name": "asciimageExample.ipynb",
      "provenance": [],
      "collapsed_sections": []
    },
    "kernelspec": {
      "display_name": "Python 3",
      "name": "python3"
    },
    "language_info": {
      "name": "python"
    }
  },
  "cells": [
    {
      "cell_type": "code",
      "metadata": {
        "colab": {
          "base_uri": "https://localhost:8080/"
        },
        "id": "OrBIbO3rHeIH",
        "outputId": "ee1346e2-115d-4cb7-a20b-f505a5575cb5"
      },
      "source": [
        "!pip install -i https://test.pypi.org/simple/ asciimage==3.10\n",
        "!pip install python-docx \n",
        "!pip install docx "
      ],
      "execution_count": 1,
      "outputs": [
        {
          "output_type": "stream",
          "text": [
            "Looking in indexes: https://test.pypi.org/simple/\n",
            "Requirement already satisfied: asciimage==3.10 in /usr/local/lib/python3.7/dist-packages (3.10)\n",
            "Requirement already satisfied: docx in /usr/local/lib/python3.7/dist-packages (from asciimage==3.10) (2.0.1)\n",
            "Requirement already satisfied: Pillow in /usr/local/lib/python3.7/dist-packages (from asciimage==3.10) (7.1.2)\n",
            "Requirement already satisfied: python-docx in /usr/local/lib/python3.7/dist-packages (0.8.11)\n",
            "Requirement already satisfied: lxml>=2.3.2 in /usr/local/lib/python3.7/dist-packages (from python-docx) (4.2.6)\n",
            "Requirement already satisfied: docx in /usr/local/lib/python3.7/dist-packages (2.0.1)\n"
          ],
          "name": "stdout"
        }
      ]
    },
    {
      "cell_type": "code",
      "metadata": {
        "id": "B9m-aX6KIbkY"
      },
      "source": [
        "#image to ascii \n",
        "from asciimage import *\n",
        "from PIL import Image #import the module\n",
        "image_path = r\"blastoise.jpg\"\n",
        "file_path = r\"output.txt\" #'output.txt' is the destination where the ASCII art will be stored\n",
        "ascii_char = list(\",.!~@\")\n",
        "height = 400 #intended height of output file\n",
        "width = 400 #intended width of output file\n",
        "art = asciimage(image_path,file_path,ascii_char,height,width) #optional: ascii_char,height,width\n",
        "art.make_ascii_image()"
      ],
      "execution_count": 2,
      "outputs": []
    },
    {
      "cell_type": "code",
      "metadata": {
        "id": "YUivsF0zIh__"
      },
      "source": [
        "#image to colored ascii\n",
        "from PIL import Image\n",
        "from docx import *\n",
        "from docx.shared import *\n",
        "image_path = r\"blastoise.jpg\"\n",
        "file_path = r\"output.doc\" #'output.doc' is the destination where the ASCII art will be stored\n",
        "art = asciimage(image_path,file_path) #compulsory: image_path,file_path\n",
        "#this function outputs a doc file only\n",
        "art.make_colored_ascii(64)#produces 64X64 image; "
      ],
      "execution_count": 3,
      "outputs": []
    },
    {
      "cell_type": "code",
      "metadata": {
        "id": "DIbiKteSKFoa"
      },
      "source": [
        ""
      ],
      "execution_count": null,
      "outputs": []
    }
  ]
}