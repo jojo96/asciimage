{
  "nbformat": 4,
  "nbformat_minor": 0,
  "metadata": {
    "colab": {
      "name": "Tutorial.ipynb",
      "provenance": [],
      "collapsed_sections": []
    },
    "kernelspec": {
      "name": "python3",
      "display_name": "Python 3"
    },
    "language_info": {
      "name": "python"
    }
  },
  "cells": [
    {
      "cell_type": "markdown",
      "metadata": {
        "id": "VG_kdUiHDKN1"
      },
      "source": [
        "##Asciimage\n",
        "\n",
        "This is a tutorial for the Asciimage library. Feel free to contribute and improve the library [here](https://github.com/jojo96/asciimage).\n",
        "\n",
        "First let's see how to install the required libraries"
      ]
    },
    {
      "cell_type": "code",
      "metadata": {
        "colab": {
          "base_uri": "https://localhost:8080/"
        },
        "id": "AY-m8HnFDLJa",
        "outputId": "f7b4e7e3-54cb-433b-9f54-79163524b3c6"
      },
      "source": [
        "!pip install asciimage\n",
        "!pip install python-docx \n",
        "!pip install docx "
      ],
      "execution_count": null,
      "outputs": [
        {
          "output_type": "stream",
          "text": [
            "Requirement already satisfied: asciimage in /usr/local/lib/python3.7/dist-packages (3.14159265)\n",
            "Requirement already satisfied: docx in /usr/local/lib/python3.7/dist-packages (from asciimage) (2.0.1)\n",
            "Requirement already satisfied: Pillow in /usr/local/lib/python3.7/dist-packages (from asciimage) (7.1.2)\n",
            "Requirement already satisfied: python-docx in /usr/local/lib/python3.7/dist-packages (0.8.11)\n",
            "Requirement already satisfied: lxml>=2.3.2 in /usr/local/lib/python3.7/dist-packages (from python-docx) (4.2.6)\n",
            "Requirement already satisfied: docx in /usr/local/lib/python3.7/dist-packages (2.0.1)\n"
          ],
          "name": "stdout"
        }
      ]
    },
    {
      "cell_type": "markdown",
      "metadata": {
        "id": "n6ZfeA0iGOMr"
      },
      "source": [
        "For black and white ascii art, use the code block below. "
      ]
    },
    {
      "cell_type": "code",
      "metadata": {
        "id": "HZnC-BUy_IVr"
      },
      "source": [
        "from asciimage import *\n",
        "from PIL import Image #import the module\n",
        "image_path = r\"blastoise.jpg\"\n",
        "file_path = r\"output.txt\" #'output.txt' is the destination where the ASCII art will be stored\n",
        "ascii_char = list(\",.\")\n",
        "height = 400 #intended height of output file\n",
        "width = 400 #intended width of output file\n",
        "art = asciimage(image_path,file_path,ascii_char,height,width) #optional: ascii_char,height,width\n",
        "art.make_ascii_image()"
      ],
      "execution_count": null,
      "outputs": []
    },
    {
      "cell_type": "markdown",
      "metadata": {
        "id": "te1_DyVHHATm"
      },
      "source": [
        "Example input and output:\n",
        "\n",
        "Input Image: <br>\n",
        "![input](https://raw.githubusercontent.com/jojo96/asciimage/main/pok.jpg)\n",
        "\n",
        "Output text file: <br>\n",
        "![output](https://raw.githubusercontent.com/jojo96/asciimage/main/pok_txt.png)"
      ]
    },
    {
      "cell_type": "markdown",
      "metadata": {
        "id": "J4XLJAD_HLwz"
      },
      "source": [
        "For colored ascii art, use the code block below. "
      ]
    },
    {
      "cell_type": "code",
      "metadata": {
        "id": "HdpOvp9gGiJG"
      },
      "source": [
        "#for colored ascii image\n",
        "from PIL import Image\n",
        "from docx import *\n",
        "from docx.shared import *\n",
        "image_path = r\"input_image.jpg\"\n",
        "file_path = r\"output.doc\" #'output.doc' is the destination where the ASCII art will be stored\n",
        "art = asciimage(image_path,file_path) #compulsory: image_path,file_path\n",
        "#this function outputs a doc file only\n",
        "art.make_colored_ascii(64)#produces 64X64 image; "
      ],
      "execution_count": null,
      "outputs": []
    },
    {
      "cell_type": "markdown",
      "metadata": {
        "id": "UDcjD8_cHWHG"
      },
      "source": [
        "Example input:\n",
        "![input](https://raw.githubusercontent.com/jojo96/asciimage/main/blastoise.jpg)\n",
        "\n",
        "Output doc file: <br>\n",
        "![output](https://raw.githubusercontent.com/jojo96/asciimage/main/blastoiseASCII.png)\n"
      ]
    },
    {
      "cell_type": "code",
      "metadata": {
        "id": "8ePiFm-b_t11"
      },
      "source": [
        ""
      ],
      "execution_count": null,
      "outputs": []
    }
  ]
}